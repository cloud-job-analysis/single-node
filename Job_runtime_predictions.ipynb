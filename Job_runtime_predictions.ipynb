{
 "cells": [
  {
   "cell_type": "code",
   "execution_count": 1,
   "metadata": {},
   "outputs": [],
   "source": [
    "import numpy as np\n",
    "from sklearn.svm import SVR\n",
    "from sklearn.model_selection import GridSearchCV\n",
    "import pickle"
   ]
  },
  {
   "cell_type": "code",
   "execution_count": 2,
   "metadata": {},
   "outputs": [],
   "source": [
    "flask_jobs_features = list()\n",
    "flask_jobs_runtimes = list()\n",
    "ml_jobs_features = list()\n",
    "ml_jobs_runtimes = list()\n",
    "mr_jobs_features = list()\n",
    "mr_jobs_runtimes = list()\n",
    "with open('train.csv', 'r') as f:\n",
    "    header = f.readline()\n",
    "    for line in f:\n",
    "        if 'flask' in line:\n",
    "            line = line.split()\n",
    "            flask_jobs_runtimes.append(float(line[0].split(',')[5]))\n",
    "            flask_jobs_features.append(list([float(line[1].strip(',')), line[2].strip(\"\\']\")]))\n",
    "        elif 'ml' in line:\n",
    "            line = line.split()\n",
    "            ml_jobs_runtimes.append(float(line[0].split(',')[-3]))\n",
    "            ml_jobs_features.append(list([float(line[1].strip(' ,')), float(line[2].strip(',')), float(line[3].strip(']'))]))\n",
    "        elif 'mr' in line:\n",
    "            line = line.split()\n",
    "            mr_jobs_runtimes.append(float(line[0].split(',')[-3]))\n",
    "            mr_jobs_features.append(list([float(line[1].strip(' ,')), float(line[2].strip(',')), float(line[3].strip(']'))]))"
   ]
  },
  {
   "cell_type": "code",
   "execution_count": 3,
   "metadata": {},
   "outputs": [],
   "source": [
    "Y_flask = np.array(flask_jobs_runtimes)\n",
    "X_flask = np.zeros((len(flask_jobs_features), 6))\n",
    "for i in range(len(flask_jobs_features)):\n",
    "    X_flask[i, 0] = flask_jobs_features[i][0]\n",
    "    if flask_jobs_features[i][1] == 'word_count':\n",
    "        X_flask[i, 1] = 1\n",
    "    elif flask_jobs_features[i][1] == 'tim':\n",
    "        X_flask[i, 2] = 1\n",
    "    elif flask_jobs_features[i][1] == 'insertion':\n",
    "        X_flask[i, 3] = 1\n",
    "    elif flask_jobs_features[i][1] == 'bubble':\n",
    "        X_flask[i, 4] = 1\n",
    "    elif flask_jobs_features[i][1] == 'bogo':\n",
    "        X_flask[i, 5] = 1\n",
    "    else:\n",
    "        print('you missed one...')"
   ]
  },
  {
   "cell_type": "code",
   "execution_count": 7,
   "metadata": {},
   "outputs": [
    {
     "name": "stdout",
     "output_type": "stream",
     "text": [
      "[-1656.57882953 -1655.61445482 -1654.6737961  -1653.47008767\n",
      " -1653.70587452  -578.07019232  -578.23974155  -579.21977875\n",
      "  -579.98721809  -580.70293242  -510.11909849  -510.26207527\n",
      "  -510.7688656   -510.89719963  -511.68881133  -512.5684268\n",
      "  -512.34499212  -511.83705359  -511.39805892  -511.59421957\n",
      "  -512.56632716  -512.34448322  -511.83746952  -511.40029569\n",
      "  -511.58897237]\n"
     ]
    }
   ],
   "source": [
    "parameters = {'kernel': ['rbf'], 'C':[1, 10, 100, 1000, 10000], 'epsilon': [.1, .2, .3, .4, .5]}\n",
    "clf_flask = GridSearchCV(SVR(), parameters, cv=5, refit=True, scoring='neg_mean_squared_error')\n",
    "clf_flask.fit(X_flask, Y_flask)\n",
    "print(clf_flask.cv_results_['mean_test_score'])\n",
    "clf_flask_final = clf_flask.best_estimator_\n",
    "with open('flask_predictor.pkl', 'wb') as f:\n",
    "    pickle.dump(clf_flask_final, f)"
   ]
  },
  {
   "cell_type": "code",
   "execution_count": 19,
   "metadata": {},
   "outputs": [
    {
     "name": "stdout",
     "output_type": "stream",
     "text": [
      "[-13.26265745 -13.31557804 -13.3846176  -13.43008256 -13.41584044\n",
      " -13.29890126 -13.308049   -13.29539617 -13.33679948 -13.37945114\n",
      " -13.29890126 -13.308049   -13.29539617 -13.33679948 -13.37945114\n",
      " -13.29890126 -13.308049   -13.29539617 -13.33679948 -13.37945114\n",
      " -13.29890126 -13.308049   -13.29539617 -13.33679948 -13.37945114]\n"
     ]
    }
   ],
   "source": [
    "Y_ML = np.array(ml_jobs_runtimes)\n",
    "X_ML = np.array(ml_jobs_features)\n",
    "\n",
    "parameters = {'kernel': ['rbf'], 'C':[1, 10, 100, 1000, 10000], 'epsilon': [.1, .2, .3, .4, .5]}\n",
    "clf_ML = GridSearchCV(SVR(), parameters, cv=5, refit=True, scoring='neg_mean_squared_error')\n",
    "clf_ML.fit(X_ML, Y_ML)\n",
    "print(clf_ML.cv_results_['mean_test_score'])\n",
    "clf_ML_final = clf_ML.best_estimator_\n",
    "with open('ML_predictor.pkl', 'wb') as f:\n",
    "    pickle.dump(clf_ML_final, f)"
   ]
  },
  {
   "cell_type": "code",
   "execution_count": 20,
   "metadata": {},
   "outputs": [
    {
     "name": "stdout",
     "output_type": "stream",
     "text": [
      "[-1507.03654496 -1506.9488635  -1506.58463905 -1506.06397897\n",
      " -1505.70488476 -1359.64917257 -1359.50526664 -1359.3385812\n",
      " -1359.1467252  -1358.95635416 -1704.57799167 -1703.01265889\n",
      " -1701.43673481 -1699.88229052 -1698.33608353 -2098.67475313\n",
      " -2094.77137871 -2090.82976847 -2086.98331309 -2083.1738639\n",
      " -2109.45445101 -2105.46178717 -2101.42845316 -2097.45780495\n",
      " -2093.49516595]\n"
     ]
    }
   ],
   "source": [
    "Y_MR = np.array(mr_jobs_runtimes)\n",
    "X_MR = np.array(mr_jobs_features)\n",
    "parameters = {'kernel': ['rbf'], 'C':[1, 10, 100, 1000, 10000], 'epsilon': [.1, .2, .3, .4, .5]}\n",
    "clf_MR = GridSearchCV(SVR(), parameters, cv=5, refit=True, scoring='neg_mean_squared_error')\n",
    "clf_MR.fit(X_MR, Y_MR)\n",
    "print(clf_MR.cv_results_['mean_test_score'])\n",
    "clf_MR_final = clf_MR.best_estimator_\n",
    "with open('MR_predictor.pkl', 'wb') as f:\n",
    "    pickle.dump(clf_MR_final, f)"
   ]
  },
  {
   "cell_type": "code",
   "execution_count": null,
   "metadata": {},
   "outputs": [],
   "source": []
  }
 ],
 "metadata": {
  "kernelspec": {
   "display_name": "Python 3",
   "language": "python",
   "name": "python3"
  },
  "language_info": {
   "codemirror_mode": {
    "name": "ipython",
    "version": 3
   },
   "file_extension": ".py",
   "mimetype": "text/x-python",
   "name": "python",
   "nbconvert_exporter": "python",
   "pygments_lexer": "ipython3",
   "version": "3.6.4"
  }
 },
 "nbformat": 4,
 "nbformat_minor": 2
}
