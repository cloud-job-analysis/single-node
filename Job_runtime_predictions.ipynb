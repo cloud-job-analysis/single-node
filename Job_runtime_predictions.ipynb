{
 "cells": [
  {
   "cell_type": "code",
   "execution_count": 1,
   "metadata": {},
   "outputs": [],
   "source": [
    "import numpy as np\n",
    "from sklearn.svm import SVR\n",
    "from sklearn.model_selection import GridSearchCV\n",
    "import pickle"
   ]
  },
  {
   "cell_type": "code",
   "execution_count": 2,
   "metadata": {},
   "outputs": [],
   "source": [
    "flask_jobs_features = list()\n",
    "flask_jobs_runtimes = list()\n",
    "with open('flask_jobs.csv', 'r') as f:\n",
    "    header = f.readline()\n",
    "    for line in f:\n",
    "        line = line.split()\n",
    "        flask_jobs_runtimes.append(float(line[0].split(',')[5]))\n",
    "        flask_jobs_features.append(list([float(line[1].strip(',')), line[2].strip(\"\\']\")]))"
   ]
  },
  {
   "cell_type": "code",
   "execution_count": 3,
   "metadata": {},
   "outputs": [],
   "source": [
    "Y_flask = np.array(flask_jobs_runtimes)\n",
    "X_flask = np.zeros((len(flask_jobs_features), 6))\n",
    "for i in range(len(flask_jobs_features)):\n",
    "    X_flask[i, 0] = flask_jobs_features[i][0]\n",
    "    if flask_jobs_features[i][1] == 'word_count':\n",
    "        X_flask[i, 1] = 1\n",
    "    elif flask_jobs_features[i][1] == 'tim':\n",
    "        X_flask[i, 2] = 1\n",
    "    elif flask_jobs_features[i][1] == 'insertion':\n",
    "        X_flask[i, 3] = 1\n",
    "    elif flask_jobs_features[i][1] == 'bubble':\n",
    "        X_flask[i, 4] = 1\n",
    "    elif flask_jobs_features[i][1] == 'bogo':\n",
    "        X_flask[i, 5] = 1\n",
    "    else:\n",
    "        print('you missed one...')"
   ]
  },
  {
   "cell_type": "code",
   "execution_count": 10,
   "metadata": {},
   "outputs": [
    {
     "name": "stdout",
     "output_type": "stream",
     "text": [
      "[-2.32477123 -2.2854607  -2.28511375 -2.33912551 -2.38020751 -2.14443677\n",
      " -2.12278506 -2.13551899 -2.1565824  -2.22570582 -2.13054669 -2.12027949\n",
      " -2.13256653 -2.15057739 -2.21836097 -2.1304281  -2.12031597 -2.13251719\n",
      " -2.15062115 -2.21835725 -2.13037816 -2.12032143 -2.13254785 -2.15060779\n",
      " -2.21843102]\n"
     ]
    }
   ],
   "source": [
    "parameters = {'kernel': ['rbf'], 'C':[1, 10, 100, 1000, 10000], 'epsilon': [.1, .2, .3, .4, .5]}\n",
    "clf_flask = GridSearchCV(SVR(), parameters, cv=5, refit=True, scoring='neg_mean_squared_error')\n",
    "clf_flask.fit(X_flask, Y_flask)\n",
    "print(clf_flask.cv_results_['mean_test_score'])\n",
    "clf_flask_final = clf_flask.best_estimator_\n",
    "with open('flask_predictor.pkl', 'wb') as f:\n",
    "    pickle.dump(clf_flask_final, f)"
   ]
  },
  {
   "cell_type": "code",
   "execution_count": 11,
   "metadata": {},
   "outputs": [],
   "source": [
    "ml_jobs_features = list()\n",
    "ml_jobs_runtimes = list()\n",
    "with open('ml_jobs.csv', 'r') as f:\n",
    "    header = f.readline()\n",
    "    for line in f:\n",
    "        line = line.split()\n",
    "        ml_jobs_runtimes.append(float(line[0].split(',')[-3]))\n",
    "        ml_jobs_features.append(list([float(line[1].strip(' ,')), float(line[2].strip(',')), float(line[3].strip(']'))]))\n",
    "Y_ML = np.array(ml_jobs_runtimes)\n",
    "X_ML = np.array(ml_jobs_features)"
   ]
  },
  {
   "cell_type": "code",
   "execution_count": 12,
   "metadata": {},
   "outputs": [
    {
     "name": "stdout",
     "output_type": "stream",
     "text": [
      "[-0.01118333 -0.02577966 -0.05461229 -0.09783581 -0.16036938 -0.01118333\n",
      " -0.02577966 -0.05461229 -0.09783581 -0.16036938 -0.01118333 -0.02577966\n",
      " -0.05461229 -0.09783581 -0.16036938 -0.01118333 -0.02577966 -0.05461229\n",
      " -0.09783581 -0.16036938 -0.01118333 -0.02577966 -0.05461229 -0.09783581\n",
      " -0.16036938]\n"
     ]
    }
   ],
   "source": [
    "parameters = {'kernel': ['rbf'], 'C':[1, 10, 100, 1000, 10000], 'epsilon': [.1, .2, .3, .4, .5]}\n",
    "clf_ML = GridSearchCV(SVR(), parameters, cv=5, refit=True, scoring='neg_mean_squared_error')\n",
    "clf_ML.fit(X_ML, Y_ML)\n",
    "print(clf_ML.cv_results_['mean_test_score'])\n",
    "clf_ML_final = clf_ML.best_estimator_\n",
    "with open('ML_predictor.pkl', 'wb') as f:\n",
    "    pickle.dump(clf_ML_final, f)"
   ]
  },
  {
   "cell_type": "code",
   "execution_count": 18,
   "metadata": {},
   "outputs": [],
   "source": [
    "mr_jobs_features = list()\n",
    "mr_jobs_runtimes = list()\n",
    "with open('Eli_MR_output.csv', 'r') as f:\n",
    "    header = f.readline()\n",
    "    i = 0\n",
    "    for line in f:\n",
    "        line = line.split()\n",
    "        mr_jobs_runtimes.append(float(line[0].split(',')[-3]))\n",
    "        mr_jobs_features.append(list([float(line[1].strip(' ,')), float(line[2].strip(',')), float(line[3].strip(']'))]))\n",
    "Y_MR = np.array(mr_jobs_runtimes)\n",
    "X_MR = np.array(mr_jobs_features)"
   ]
  },
  {
   "cell_type": "code",
   "execution_count": 19,
   "metadata": {},
   "outputs": [
    {
     "name": "stdout",
     "output_type": "stream",
     "text": [
      "[-64230.62910487 -64231.95617197 -64235.02826803 -64239.48070025\n",
      " -64243.49441689 -63452.01802209 -63450.94459184 -63450.16727687\n",
      " -63450.58790801 -63450.89720146 -64405.66594819 -64405.41466519\n",
      " -64405.15837351 -64404.84794574 -64404.44965143 -85086.76466567\n",
      " -85077.451547   -85068.18555197 -85058.90871825 -85049.77126099\n",
      " -91117.50041442 -91103.55038086 -91089.58422604 -91075.65058872\n",
      " -91061.6928144 ]\n"
     ]
    }
   ],
   "source": [
    "parameters = {'kernel': ['rbf'], 'C':[1, 10, 100, 1000, 10000], 'epsilon': [.1, .2, .3, .4, .5]}\n",
    "clf_MR = GridSearchCV(SVR(), parameters, cv=5, refit=True, scoring='neg_mean_squared_error')\n",
    "clf_MR.fit(X_MR, Y_MR)\n",
    "print(clf_MR.cv_results_['mean_test_score'])\n",
    "clf_MR_final = clf_MR.best_estimator_\n",
    "with open('MR_predictor.pkl', 'wb') as f:\n",
    "    pickle.dump(clf_MR_final, f)"
   ]
  },
  {
   "cell_type": "code",
   "execution_count": null,
   "metadata": {},
   "outputs": [],
   "source": []
  }
 ],
 "metadata": {
  "kernelspec": {
   "display_name": "Python 3",
   "language": "python",
   "name": "python3"
  },
  "language_info": {
   "codemirror_mode": {
    "name": "ipython",
    "version": 3
   },
   "file_extension": ".py",
   "mimetype": "text/x-python",
   "name": "python",
   "nbconvert_exporter": "python",
   "pygments_lexer": "ipython3",
   "version": "3.6.4"
  }
 },
 "nbformat": 4,
 "nbformat_minor": 2
}
