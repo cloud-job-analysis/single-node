{
 "cells": [
  {
   "cell_type": "code",
   "execution_count": 3,
   "metadata": {},
   "outputs": [],
   "source": [
    "import numpy as np"
   ]
  },
  {
   "cell_type": "code",
   "execution_count": 1,
   "metadata": {},
   "outputs": [],
   "source": [
    "def getUserDemand(userID, request_dict):\n",
    "    return request_dict[userID][0]"
   ]
  },
  {
   "cell_type": "code",
   "execution_count": 2,
   "metadata": {},
   "outputs": [],
   "source": [
    "def dominantResourceFairness(resource_caps, resource_util, dominant_shares, utils, request_dict):\n",
    "    #do argument sort to order dom shares ascending\n",
    "    sorted_dom_shared = np.argsort(dominant_shares)\n",
    "    #check each user to see if we can service their next request\n",
    "    for i in sorted_dom_shares:\n",
    "        userDemand = getUserDemand(i, request_dict)\n",
    "        if not userDemand:\n",
    "            #if this user doesn't have any current requests,\n",
    "            #move to the next guy\n",
    "            pass\n",
    "        #if there is a pending request, check to see if request can be serviced\n",
    "        elif np.all(userDemand + resource_util <= resource_caps):\n",
    "            # ^^ all resources need to be able to accomodate the request -- if they can, proceed\n",
    "            # vv simple vector addition\n",
    "            resource_util += userDemand\n",
    "            utils[i] += userDemand\n",
    "            dominant_shares[i] = np.max(utils[i] / resource_caps)\n",
    "            return True, resource_caps, resource_util, dominant_shares, utils #return success and updated params\n",
    "    #if no request can be serviced currently, return failure and the old parameters\n",
    "    return False, resource_caps, resource_util, dominant_shares, utils"
   ]
  },
  {
   "cell_type": "code",
   "execution_count": null,
   "metadata": {},
   "outputs": [],
   "source": []
  }
 ],
 "metadata": {
  "kernelspec": {
   "display_name": "Python 3",
   "language": "python",
   "name": "python3"
  },
  "language_info": {
   "codemirror_mode": {
    "name": "ipython",
    "version": 3
   },
   "file_extension": ".py",
   "mimetype": "text/x-python",
   "name": "python",
   "nbconvert_exporter": "python",
   "pygments_lexer": "ipython3",
   "version": "3.6.4"
  }
 },
 "nbformat": 4,
 "nbformat_minor": 2
}
