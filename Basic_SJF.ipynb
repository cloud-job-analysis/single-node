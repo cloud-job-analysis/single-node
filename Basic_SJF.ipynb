{
 "cells": [
  {
   "cell_type": "code",
   "execution_count": 2,
   "metadata": {},
   "outputs": [],
   "source": [
    "def shortestJobFirst(resource_caps, request_list):\n",
    "    #sort jobs according to reported predicted job time (ascending)\n",
    "    sorted_requests = sorted(request_list, key=lambda x: x[-1]) ########################\n",
    "    ############Need to change this to reflect that we're sorting according to reported predicted job time\n",
    "    \n",
    "    #loop through all (sorted) requests\n",
    "    for request in sorted_requests:\n",
    "        #for this request, if all of it's resource constraints (omit job time)\n",
    "        #can be serviced, then run this job\n",
    "        if np.all(request[:-1] <= resource_caps):\n",
    "            return True, request\n",
    "        \n",
    "    #if no request can be serviced, return failure and None for the request we're servicing\n",
    "    return False, None"
   ]
  },
  {
   "cell_type": "code",
   "execution_count": null,
   "metadata": {},
   "outputs": [],
   "source": []
  }
 ],
 "metadata": {
  "kernelspec": {
   "display_name": "Python 3",
   "language": "python",
   "name": "python3"
  },
  "language_info": {
   "codemirror_mode": {
    "name": "ipython",
    "version": 3
   },
   "file_extension": ".py",
   "mimetype": "text/x-python",
   "name": "python",
   "nbconvert_exporter": "python",
   "pygments_lexer": "ipython3",
   "version": "3.6.4"
  }
 },
 "nbformat": 4,
 "nbformat_minor": 2
}
