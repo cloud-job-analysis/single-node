{
 "cells": [
  {
   "cell_type": "code",
   "execution_count": 29,
   "metadata": {},
   "outputs": [],
   "source": [
    "import numpy as np\n",
    "import os\n",
    "import pickle\n",
    "import json"
   ]
  },
  {
   "cell_type": "code",
   "execution_count": 23,
   "metadata": {},
   "outputs": [],
   "source": [
    "files = [\"/in\" + str(i+1) for i in range(30)]\n",
    "folder_sizes = {}\n",
    "for file in files:\n",
    "    folder_sizes[file] = 0\n",
    "    for f in os.listdir('./input' + file):\n",
    "        folder_sizes[file] += os.path.getsize('./input'+ file + \"/\" + f)"
   ]
  },
  {
   "cell_type": "code",
   "execution_count": 27,
   "metadata": {},
   "outputs": [],
   "source": [
    "with open('folder_sizes.pkl', 'wb') as f:\n",
    "    pickle.dump(folder_sizes, f)"
   ]
  },
  {
   "cell_type": "code",
   "execution_count": 33,
   "metadata": {},
   "outputs": [],
   "source": [
    "with open('MR_Jobs.json', 'w') as f:\n",
    "    id_num = 5000\n",
    "    for i in range(100):\n",
    "        line_item = {}\n",
    "        line_item['ram'] = np.random.randint(1,5)\n",
    "        line_item['id'] = 5000 + i\n",
    "        line_item['type'] = 'mr_job'\n",
    "        job_name = \"/usr/local/hadoop/bin/hadoop jar /usr/local/hadoop/share/hadoop/tools/lib/hadoop-streaming-3.1.2.jar\"\n",
    "        job_name += \" -D mapred.map.tasks=\"\n",
    "        job_name += str(np.random.randint(1, 11))\n",
    "        job_name += \" -D mapred.reduce.tasks=\"\n",
    "        job_name += str(np.random.randint(1,5))\n",
    "        job_name += \" -mapper MapReduce/mapper.py -reducer MapReduce/reducer.py -input \"\n",
    "        job_name += files[np.random.randint(0, 30)]\n",
    "        job_name += \" -output /\" + str(i)\n",
    "        line_item['command'] = job_name\n",
    "        line_item['cpu'] = np.random.randint(1,4)\n",
    "        f.write(json.dumps(line_item) + '\\n')"
   ]
  },
  {
   "cell_type": "code",
   "execution_count": null,
   "metadata": {},
   "outputs": [],
   "source": []
  }
 ],
 "metadata": {
  "kernelspec": {
   "display_name": "Python 3",
   "language": "python",
   "name": "python3"
  },
  "language_info": {
   "codemirror_mode": {
    "name": "ipython",
    "version": 3
   },
   "file_extension": ".py",
   "mimetype": "text/x-python",
   "name": "python",
   "nbconvert_exporter": "python",
   "pygments_lexer": "ipython3",
   "version": "3.6.4"
  }
 },
 "nbformat": 4,
 "nbformat_minor": 2
}
