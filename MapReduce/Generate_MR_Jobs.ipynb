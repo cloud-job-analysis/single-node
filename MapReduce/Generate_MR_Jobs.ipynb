{
 "cells": [
  {
   "cell_type": "code",
   "execution_count": 5,
   "metadata": {},
   "outputs": [],
   "source": [
    "import numpy as np"
   ]
  },
  {
   "cell_type": "code",
   "execution_count": 6,
   "metadata": {},
   "outputs": [],
   "source": [
    "files = [\"/in\" + str(i+1) for i in range(30)]"
   ]
  },
  {
   "cell_type": "code",
   "execution_count": 15,
   "metadata": {},
   "outputs": [],
   "source": [
    "with open('MR_Jobs.txt', 'w') as f:\n",
    "    for i in range(100):\n",
    "        job_name = \"/usr/local/hadoop/bin/hadoop jar /usr/local/hadoop/share/hadoop/tools/lib/hadoop-streaming-3.1.2.jar\"\n",
    "        job_name += \" -D mapred.map.tasks=\"\n",
    "        job_name += str(np.random.randint(1, 11))\n",
    "        job_name += \" -D mapred.reduce.tasks=\"\n",
    "        job_name += str(np.random.randint(1,5))\n",
    "        job_name += \" -mapper MapReduce/mapper.py -reducer MapReduce/reducer.py -input \"\n",
    "        job_name += files[np.random.randint(0, 30)]\n",
    "        job_name += \" -output /\" + str(i) + \"\\n\"\n",
    "        f.write(job_name)"
   ]
  },
  {
   "cell_type": "code",
   "execution_count": null,
   "metadata": {},
   "outputs": [],
   "source": []
  }
 ],
 "metadata": {
  "kernelspec": {
   "display_name": "Python 3",
   "language": "python",
   "name": "python3"
  },
  "language_info": {
   "codemirror_mode": {
    "name": "ipython",
    "version": 3
   },
   "file_extension": ".py",
   "mimetype": "text/x-python",
   "name": "python",
   "nbconvert_exporter": "python",
   "pygments_lexer": "ipython3",
   "version": "3.6.4"
  }
 },
 "nbformat": 4,
 "nbformat_minor": 2
}
